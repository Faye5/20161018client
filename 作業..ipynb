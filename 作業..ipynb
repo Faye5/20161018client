{
 "cells": [
  {
   "cell_type": "code",
   "execution_count": 3,
   "metadata": {
    "collapsed": true
   },
   "outputs": [],
   "source": [
    "# 選擇權參數\n",
    "\n",
    "S0 = 100\n",
    "K = 105\n",
    "T = 1\n",
    "r = 0.05\n",
    "Sigma = 0.2"
   ]
  },
  {
   "cell_type": "markdown",
   "metadata": {},
   "source": [
    "# Options Pricing via Monte Carlo Simulation"
   ]
  },
  {
   "cell_type": "code",
   "execution_count": 27,
   "metadata": {
    "collapsed": false
   },
   "outputs": [
    {
     "data": {
      "text/plain": [
       "8.0088202343802521"
      ]
     },
     "execution_count": 27,
     "metadata": {},
     "output_type": "execute_result"
    }
   ],
   "source": [
    "import numpy as np\n",
    "\n",
    "N = 100000    # simulation trials\n",
    "\n",
    "z = np.random.standard_normal(N)\n",
    "ST = S0 * np.exp((r - 0.5 * Sigma ** 2) * T + Sigma * np.sqrt(T) * z)\n",
    "CT = np.maximum(ST - K, 0)\n",
    "C0 = np.exp(-r * T) * np.sum(CT) / N\n",
    "\n",
    "C0"
   ]
  },
  {
   "cell_type": "code",
   "execution_count": 21,
   "metadata": {
    "collapsed": false
   },
   "outputs": [
    {
     "name": "stdout",
     "output_type": "stream",
     "text": [
      "The present value of the European call option: 8.083\n"
     ]
    }
   ],
   "source": [
    "print('The present value of the European call option: %5.3f' % C0)"
   ]
  },
  {
   "cell_type": "code",
   "execution_count": 22,
   "metadata": {
    "collapsed": true
   },
   "outputs": [],
   "source": [
    "def Call_Value_MSC(S0, K, T, r, Sigma, N):\n",
    "    '''\n",
    "    Parameters:\n",
    "    ===========\n",
    "    S0: initial stock/index level\n",
    "    K: stike price\n",
    "    T: maturity date (in year factions)\n",
    "    r: constant risk-free short rate (in year factions)\n",
    "    Sigma: volatility factor in diffusion term (in year factions)\n",
    "    N: simulation trials\n",
    "    \n",
    "    Returns:\n",
    "    ========\n",
    "    value: present value of the European call option\n",
    "    '''\n",
    "    from numpy import random, sqrt, exp, maximum, sum\n",
    "    \n",
    "    z = random.standard_normal(N)\n",
    "    ST = S0 * exp((r - 0.5 * Sigma ** 2) * T + Sigma * sqrt(T) * z)\n",
    "    CT = maximum(ST - K, 0)\n",
    "    C0 = exp(-r * T) * sum(CT) / N\n",
    "    return C0"
   ]
  },
  {
   "cell_type": "code",
   "execution_count": 25,
   "metadata": {
    "collapsed": false
   },
   "outputs": [
    {
     "data": {
      "text/plain": [
       "7.9597202836333416"
      ]
     },
     "execution_count": 25,
     "metadata": {},
     "output_type": "execute_result"
    }
   ],
   "source": [
    "Call_Value = Call_Value_MSC(S0, K, T, r, Sigma, N)\n",
    "Call_Value"
   ]
  },
  {
   "cell_type": "markdown",
   "metadata": {},
   "source": [
    "# Options Pricing via BSM Model"
   ]
  },
  {
   "cell_type": "code",
   "execution_count": 8,
   "metadata": {
    "collapsed": false
   },
   "outputs": [],
   "source": [
    "def Call_Value_BSM(S0, K, T, r, Sigma):\n",
    "    '''\n",
    "    Parameters:\n",
    "    ===========\n",
    "    S0: initial stock/index level\n",
    "    K: stike price\n",
    "    T: maturity date (in year factions)\n",
    "    r: constant risk-free short rate (in year factions)\n",
    "    Sigma: volatility factor in diffusion term (in year factions)\n",
    "    \n",
    "    Returns:\n",
    "    ========\n",
    "    value: present value of the European call option\n",
    "    '''\n",
    "    from math import log, sqrt, exp\n",
    "    from scipy import stats\n",
    "    \n",
    "    d1 = (log(S0 / K) + (r + 0.5 * Sigma ** 2) * T) / (Sigma * sqrt(T))\n",
    "    d2 = (log(S0 / K) + (r - 0.5 * Sigma ** 2) * T) / (Sigma * sqrt(T))\n",
    "    value = (S0 * stats.norm.cdf(d1, 0, 1)) - K * exp(-r * T) * stats.norm.cdf(d2, 0, 1)\n",
    "    return value"
   ]
  },
  {
   "cell_type": "code",
   "execution_count": 14,
   "metadata": {
    "collapsed": false
   },
   "outputs": [
    {
     "data": {
      "text/plain": [
       "8.0213522351431763"
      ]
     },
     "execution_count": 14,
     "metadata": {},
     "output_type": "execute_result"
    }
   ],
   "source": [
    "Call_Value = Call_Value_BSM(S0, K, T, r, Sigma)\n",
    "Call_Value"
   ]
  },
  {
   "cell_type": "code",
   "execution_count": 15,
   "metadata": {
    "collapsed": false
   },
   "outputs": [
    {
     "name": "stdout",
     "output_type": "stream",
     "text": [
      "The present value of the European call option: 8.021\n"
     ]
    }
   ],
   "source": [
    "print('The present value of the European call option: %5.3f' % Call_Value)"
   ]
  },
  {
   "cell_type": "code",
   "execution_count": 4,
   "metadata": {
    "collapsed": true
   },
   "outputs": [],
   "source": [
    "# function call function\n",
    "def BSM_Call(S0, K, T, r, Sigma):\n",
    "    '''\n",
    "    Parameters:\n",
    "    ===========\n",
    "    S0: initial stock/index level\n",
    "    K: stike price\n",
    "    T: maturity date (in year factions)\n",
    "    r: constant risk-free short rate (in year factions)\n",
    "    Sigma: volatility factor in diffusion term (in year factions)\n",
    "    \n",
    "    Returns:\n",
    "    ========\n",
    "    value: present value of the European call option\n",
    "    '''\n",
    "    from math import log, sqrt, exp\n",
    "    from scipy import stats\n",
    "    \n",
    "    d1 = BSM_d1(S0, K, T, r, Sigma)\n",
    "    d2 = BSM_d2(S0, K, T, r, Sigma)\n",
    "    value = (S0 * stats.norm.cdf(d1, 0, 1)) - K * exp(-r * T) * stats.norm.cdf(d2, 0, 1)\n",
    "    return value\n",
    "\n",
    "def BSM_d1(S0, K, T, r, Sigma):\n",
    "    '''\n",
    "    Parameters:\n",
    "    ===========\n",
    "    S0: initial stock/index level\n",
    "    K: stike price\n",
    "    T: maturity date (in year factions)\n",
    "    r: constant risk-free short rate (in year factions)\n",
    "    Sigma: volatility factor in diffusion term (in year factions)\n",
    "    \n",
    "    Returns:\n",
    "    ========\n",
    "    value: present value of the European call option\n",
    "    '''\n",
    "    from math import log, sqrt, exp\n",
    "    return (log(S0 / K) + (r + 0.5 * Sigma ** 2) * T) / (Sigma * sqrt(T))\n",
    "\n",
    "def BSM_d2(S0, K, T, r, Sigma):\n",
    "    '''\n",
    "    Parameters:\n",
    "    ===========\n",
    "    S0: initial stock/index level\n",
    "    K: stike price\n",
    "    T: maturity date (in year factions)\n",
    "    r: constant risk-free short rate (in year factions)\n",
    "    Sigma: volatility factor in diffusion term (in year factions)\n",
    "    \n",
    "    Returns:\n",
    "    ========\n",
    "    value: present value of the European call option\n",
    "    '''\n",
    "    from math import log, sqrt, exp\n",
    "    return (log(S0 / K) + (r - 0.5 * Sigma ** 2) * T) / (Sigma * sqrt(T))"
   ]
  },
  {
   "cell_type": "code",
   "execution_count": 5,
   "metadata": {
    "collapsed": false
   },
   "outputs": [
    {
     "data": {
      "text/plain": [
       "8.0213522351431763"
      ]
     },
     "execution_count": 5,
     "metadata": {},
     "output_type": "execute_result"
    }
   ],
   "source": [
    "BSM_Call(S0, K, T, r, Sigma)"
   ]
  },
  {
   "cell_type": "code",
   "execution_count": 1,
   "metadata": {
    "collapsed": true
   },
   "outputs": [],
   "source": [
    "class OptionPricingModel:\n",
    "    def __init__(self,S0, K, T, Sigma, r, option):\n",
    "        self.S0=S0\n",
    "        self.K=K\n",
    "        self.r=r\n",
    "        self.T=T\n",
    "        self.Sigma=Sigma\n",
    "        self.N=0\n",
    "        self.option=option\n",
    "    def BS_d1(self):\n",
    "        from math import log,sqrt,exp\n",
    "        from scipy import stats\n",
    "        d1=(log(self.S0/self.K)+(self.r+0.5*self.Sigma*self.Sigma)*self.T)/(self.Sigma*sqrt(self.T))\n",
    "        return d1\n",
    "    def BS_d2(self):\n",
    "        from math import log,sqrt,exp\n",
    "        from scipy import stats\n",
    "        d2=(log(self.S0/self.K)+(self.r+0.5*self.Sigma*self.Sigma)*self.T)/(self.Sigma*sqrt(self.T))-self.Sigma*sqrt(self.T)\n",
    "        return d2\n",
    "    def BS_CloseForm(self):        \n",
    "        from math import log,sqrt,exp\n",
    "        from scipy import stats\n",
    "        if self.option==0:\n",
    "            C0=self.S0*stats.norm.cdf(self.BS_d1(),0,1)-exp(-self.r*self.T)*self.K*stats.norm.cdf(self.BS_d2(),0,1) \n",
    "            option='call:'+str(C0)\n",
    "        else:\n",
    "            P0=exp(-self.r*self.T)*self.K*stats.norm.cdf(-self.BS_d2(),0,1)-self.S0*stats.norm.cdf(-self.BS_d1(),0,1)\n",
    "            option='put:'+str(P0)\n",
    "        self.display(option)       \n",
    "    def BS_MSC(self,N=1000):   \n",
    "        from numpy import random, sqrt, exp, maximum, sum  \n",
    "        z = random.standard_normal(N)\n",
    "        ST = self.S0 * exp((self.r - 0.5 * self.Sigma ** 2) * self.T + self.Sigma * sqrt(self.T) * z)\n",
    "        if self.option==0:\n",
    "            CT = maximum(ST - self.K, 0)\n",
    "            C0 = exp(-r * T) * sum(CT) / N\n",
    "            option='call:'+str(C0)\n",
    "        else:\n",
    "            CT = maximum(self.K - ST , 0)\n",
    "            P0 = exp(-r * T) * sum(CT) / N\n",
    "            option='put:'+str(P0)\n",
    "        self.display(option) \n",
    "    def display(self,option):  \n",
    "            print(option)"
   ]
  },
  {
   "cell_type": "code",
   "execution_count": 2,
   "metadata": {
    "collapsed": false
   },
   "outputs": [
    {
     "name": "stdout",
     "output_type": "stream",
     "text": [
      "call:8.01141293438\n"
     ]
    }
   ],
   "source": [
    "S0 = 100\n",
    "K = 105\n",
    "T = 1\n",
    "r = 0.05\n",
    "Sigma = 0.2\n",
    "option = 0\n",
    "N=10000\n",
    "BS=OptionPricingModel(S0, K, T, Sigma,r,option)\n",
    "BS.BS_MSC(N)"
   ]
  },
  {
   "cell_type": "code",
   "execution_count": null,
   "metadata": {
    "collapsed": true
   },
   "outputs": [],
   "source": []
  }
 ],
 "metadata": {
  "kernelspec": {
   "display_name": "Python [Root]",
   "language": "python",
   "name": "Python [Root]"
  },
  "language_info": {
   "codemirror_mode": {
    "name": "ipython",
    "version": 3
   },
   "file_extension": ".py",
   "mimetype": "text/x-python",
   "name": "python",
   "nbconvert_exporter": "python",
   "pygments_lexer": "ipython3",
   "version": "3.5.2"
  }
 },
 "nbformat": 4,
 "nbformat_minor": 0
}
